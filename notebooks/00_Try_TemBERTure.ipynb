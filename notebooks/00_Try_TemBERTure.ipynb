{
 "cells": [
  {
   "cell_type": "markdown",
   "id": "3798af69-eeb0-4c23-9172-cb26deb530a7",
   "metadata": {},
   "source": [
    "# Correr TemBERTure"
   ]
  },
  {
   "cell_type": "markdown",
   "id": "098d353f-d980-41e9-a1dd-05e0c8a92624",
   "metadata": {},
   "source": [
    "Descargar el codigo de gibhub y cargarlo. No lo pude descargar directamente desde git clone porque no esta en la VM."
   ]
  },
  {
   "cell_type": "code",
   "execution_count": 7,
   "id": "2cdd2ec2-081f-465b-82e5-1b8e41337d49",
   "metadata": {},
   "outputs": [
    {
     "name": "stdout",
     "output_type": "stream",
     "text": [
      "Archive:  TemBERTure-main.zip\n",
      "3c17a7a2d2a8365b187f5dec4eb1ed5db6d37f41\n",
      "   creating: TemBERTure-main/TemBERTure-main/\n",
      " extracting: TemBERTure-main/TemBERTure-main/CNAME  \n",
      "  inflating: TemBERTure-main/TemBERTure-main/LICENSE.md  \n",
      "  inflating: TemBERTure-main/TemBERTure-main/README.md  \n",
      "   creating: TemBERTure-main/TemBERTure-main/data/\n",
      " extracting: TemBERTure-main/TemBERTure-main/data/.Rhistory  \n",
      " extracting: TemBERTure-main/TemBERTure-main/data/BacDive_cls.tar.gz  \n",
      " extracting: TemBERTure-main/TemBERTure-main/data/Meltome_cls.tar.gz  \n",
      "  inflating: TemBERTure-main/TemBERTure-main/data/README.md  \n",
      " extracting: TemBERTure-main/TemBERTure-main/data/TemBERTure_cls.tar.gz  \n",
      " extracting: TemBERTure-main/TemBERTure-main/data/TemBERTure_reg.tar.gz  \n",
      "   creating: TemBERTure-main/TemBERTure-main/dev/\n",
      "   creating: TemBERTure-main/TemBERTure-main/dev/analysis/\n",
      " extracting: TemBERTure-main/TemBERTure-main/dev/analysis/README.md  \n",
      "  inflating: TemBERTure-main/TemBERTure-main/dev/analysis/aa_enrichment.py  \n",
      "  inflating: TemBERTure-main/TemBERTure-main/dev/analysis/aa_enrichment_pdb.py  \n",
      "  inflating: TemBERTure-main/TemBERTure-main/dev/analysis/aa_pairs_conserved.py  \n",
      "  inflating: TemBERTure-main/TemBERTure-main/dev/analysis/attention_utils.py  \n",
      "  inflating: TemBERTure-main/TemBERTure-main/dev/analysis/combine_images.py  \n",
      "  inflating: TemBERTure-main/TemBERTure-main/dev/analysis/create_image_grid.py  \n",
      "  inflating: TemBERTure-main/TemBERTure-main/dev/analysis/ensemble.py  \n",
      "  inflating: TemBERTure-main/TemBERTure-main/dev/analysis/ensemble_methods_computation.py  \n",
      "  inflating: TemBERTure-main/TemBERTure-main/dev/analysis/ensemble_methods_computation_jupyter_mock_version.ipynb  \n",
      "  inflating: TemBERTure-main/TemBERTure-main/dev/analysis/metrics.py  \n",
      "  inflating: TemBERTure-main/TemBERTure-main/dev/analysis/pymol_commands.pymol  \n",
      "  inflating: TemBERTure-main/TemBERTure-main/dev/analysis/sasa_utils.py  \n",
      "  inflating: TemBERTure-main/TemBERTure-main/dev/analysis/species_analysis.ipynb  \n",
      "  inflating: TemBERTure-main/TemBERTure-main/dev/analysis/species_analysis.py  \n",
      "  inflating: TemBERTure-main/TemBERTure-main/dev/analysis/species_analysis_tmp.ipynb  \n",
      "  inflating: TemBERTure-main/TemBERTure-main/dev/analysis/utils.py  \n",
      "   creating: TemBERTure-main/TemBERTure-main/dev/training/\n",
      "  inflating: TemBERTure-main/TemBERTure-main/dev/training/README.md  \n",
      "  inflating: TemBERTure-main/TemBERTure-main/dev/training/bert_utils.py  \n",
      "  inflating: TemBERTure-main/TemBERTure-main/dev/training/data_prep.py  \n",
      "  inflating: TemBERTure-main/TemBERTure-main/dev/training/evaluate.py  \n",
      "  inflating: TemBERTure-main/TemBERTure-main/dev/training/import_utils.py  \n",
      "  inflating: TemBERTure-main/TemBERTure-main/dev/training/main.py  \n",
      "  inflating: TemBERTure-main/TemBERTure-main/dev/training/model.py  \n",
      "  inflating: TemBERTure-main/TemBERTure-main/dev/training/model_args.py  \n",
      "  inflating: TemBERTure-main/TemBERTure-main/dev/training/modeling.py  \n",
      "  inflating: TemBERTure-main/TemBERTure-main/dev/training/modeling_outputs.py  \n",
      "  inflating: TemBERTure-main/TemBERTure-main/dev/training/predict.py  \n",
      "  inflating: TemBERTure-main/TemBERTure-main/dev/training/species_analysis.py  \n",
      "  inflating: TemBERTure-main/TemBERTure-main/dev/training/train.py  \n",
      "  inflating: TemBERTure-main/TemBERTure-main/dev/training/trainers.py  \n",
      "  inflating: TemBERTure-main/TemBERTure-main/dev/training/utils.py  \n",
      "   creating: TemBERTure-main/TemBERTure-main/docs/\n",
      "   creating: TemBERTure-main/TemBERTure-main/docs/img/\n",
      "  inflating: TemBERTure-main/TemBERTure-main/docs/img/3WV9_D.gif  \n",
      "  inflating: TemBERTure-main/TemBERTure-main/docs/img/F1_A.png  \n",
      "  inflating: TemBERTure-main/TemBERTure-main/docs/img/F1_b.png  \n",
      "  inflating: TemBERTure-main/TemBERTure-main/docs/img/logo.png  \n",
      " extracting: TemBERTure-main/TemBERTure-main/docs/img/test  \n",
      "  inflating: TemBERTure-main/TemBERTure-main/docs/index.html  \n",
      "  inflating: TemBERTure-main/TemBERTure-main/logo.png  \n",
      "   creating: TemBERTure-main/TemBERTure-main/temBERTure/\n",
      "   creating: TemBERTure-main/TemBERTure-main/temBERTure/__pycache__/\n",
      "  inflating: TemBERTure-main/TemBERTure-main/temBERTure/__pycache__/temBERTure.cpython-39.pyc  \n",
      "  inflating: TemBERTure-main/TemBERTure-main/temBERTure/requirements.txt  \n",
      "  inflating: TemBERTure-main/TemBERTure-main/temBERTure/temBERTure.py  \n",
      "   creating: TemBERTure-main/TemBERTure-main/temBERTure/temBERTure_CLS/\n",
      "   creating: TemBERTure-main/TemBERTure-main/temBERTure/temBERTure_CLS/AdapterBERT_adapter/\n",
      "  inflating: TemBERTure-main/TemBERTure-main/temBERTure/temBERTure_CLS/AdapterBERT_adapter/adapter_config.json  \n",
      "  inflating: TemBERTure-main/TemBERTure-main/temBERTure/temBERTure_CLS/AdapterBERT_adapter/pytorch_adapter.bin  \n",
      "   creating: TemBERTure-main/TemBERTure-main/temBERTure/temBERTure_CLS/AdapterBERT_head_adapter/\n",
      "  inflating: TemBERTure-main/TemBERTure-main/temBERTure/temBERTure_CLS/AdapterBERT_head_adapter/head_config.json  \n",
      "  inflating: TemBERTure-main/TemBERTure-main/temBERTure/temBERTure_CLS/AdapterBERT_head_adapter/pytorch_model_head.bin  \n",
      "  inflating: TemBERTure-main/TemBERTure-main/temBERTure/temBERTure_CLS/generation_config.json  \n",
      "  inflating: TemBERTure-main/TemBERTure-main/temBERTure/temBERTure_CLS/optimizer.pt  \n",
      "  inflating: TemBERTure-main/TemBERTure-main/temBERTure/temBERTure_CLS/rng_state.pth  \n",
      "  inflating: TemBERTure-main/TemBERTure-main/temBERTure/temBERTure_CLS/scheduler.pt  \n",
      "  inflating: TemBERTure-main/TemBERTure-main/temBERTure/temBERTure_CLS/special_tokens_map.json  \n",
      "  inflating: TemBERTure-main/TemBERTure-main/temBERTure/temBERTure_CLS/trainer_state.json  \n",
      "  inflating: TemBERTure-main/TemBERTure-main/temBERTure/temBERTure_CLS/training_args.bin  \n",
      "  inflating: TemBERTure-main/TemBERTure-main/temBERTure/temBERTure_CLS/vocab.txt  \n",
      "   creating: TemBERTure-main/TemBERTure-main/temBERTure/temBERTure_TM/\n",
      "   creating: TemBERTure-main/TemBERTure-main/temBERTure/temBERTure_TM/replica1/\n",
      "   creating: TemBERTure-main/TemBERTure-main/temBERTure/temBERTure_TM/replica1/AdapterBERT_adapter/\n",
      "  inflating: TemBERTure-main/TemBERTure-main/temBERTure/temBERTure_TM/replica1/AdapterBERT_adapter/adapter_config.json  \n",
      "  inflating: TemBERTure-main/TemBERTure-main/temBERTure/temBERTure_TM/replica1/AdapterBERT_adapter/pytorch_adapter.bin  \n",
      "   creating: TemBERTure-main/TemBERTure-main/temBERTure/temBERTure_TM/replica1/AdapterBERT_head_adapter/\n",
      "  inflating: TemBERTure-main/TemBERTure-main/temBERTure/temBERTure_TM/replica1/AdapterBERT_head_adapter/head_config.json  \n",
      "  inflating: TemBERTure-main/TemBERTure-main/temBERTure/temBERTure_TM/replica1/AdapterBERT_head_adapter/pytorch_model_head.bin  \n",
      "  inflating: TemBERTure-main/TemBERTure-main/temBERTure/temBERTure_TM/replica1/config.json  \n",
      "  inflating: TemBERTure-main/TemBERTure-main/temBERTure/temBERTure_TM/replica1/generation_config.json  \n",
      "  inflating: TemBERTure-main/TemBERTure-main/temBERTure/temBERTure_TM/replica1/optimizer.pt  \n",
      "  inflating: TemBERTure-main/TemBERTure-main/temBERTure/temBERTure_TM/replica1/rng_state.pth  \n",
      "  inflating: TemBERTure-main/TemBERTure-main/temBERTure/temBERTure_TM/replica1/scheduler.pt  \n",
      "  inflating: TemBERTure-main/TemBERTure-main/temBERTure/temBERTure_TM/replica1/special_tokens_map.json  \n",
      "  inflating: TemBERTure-main/TemBERTure-main/temBERTure/temBERTure_TM/replica1/tokenizer.json  \n",
      "  inflating: TemBERTure-main/TemBERTure-main/temBERTure/temBERTure_TM/replica1/tokenizer_config.json  \n",
      "  inflating: TemBERTure-main/TemBERTure-main/temBERTure/temBERTure_TM/replica1/trainer_state.json  \n",
      "  inflating: TemBERTure-main/TemBERTure-main/temBERTure/temBERTure_TM/replica1/training_args.bin  \n",
      "  inflating: TemBERTure-main/TemBERTure-main/temBERTure/temBERTure_TM/replica1/vocab.txt  \n",
      "   creating: TemBERTure-main/TemBERTure-main/temBERTure/temBERTure_TM/replica2/\n",
      "   creating: TemBERTure-main/TemBERTure-main/temBERTure/temBERTure_TM/replica2/AdapterBERT_adapter/\n",
      "  inflating: TemBERTure-main/TemBERTure-main/temBERTure/temBERTure_TM/replica2/AdapterBERT_adapter/adapter_config.json  \n",
      "  inflating: TemBERTure-main/TemBERTure-main/temBERTure/temBERTure_TM/replica2/AdapterBERT_adapter/pytorch_adapter.bin  \n",
      "   creating: TemBERTure-main/TemBERTure-main/temBERTure/temBERTure_TM/replica2/AdapterBERT_head_adapter/\n",
      "  inflating: TemBERTure-main/TemBERTure-main/temBERTure/temBERTure_TM/replica2/AdapterBERT_head_adapter/head_config.json  \n",
      "  inflating: TemBERTure-main/TemBERTure-main/temBERTure/temBERTure_TM/replica2/AdapterBERT_head_adapter/pytorch_model_head.bin  \n",
      "  inflating: TemBERTure-main/TemBERTure-main/temBERTure/temBERTure_TM/replica2/config.json  \n",
      "  inflating: TemBERTure-main/TemBERTure-main/temBERTure/temBERTure_TM/replica2/generation_config.json  \n",
      "  inflating: TemBERTure-main/TemBERTure-main/temBERTure/temBERTure_TM/replica2/optimizer.pt  \n",
      "  inflating: TemBERTure-main/TemBERTure-main/temBERTure/temBERTure_TM/replica2/rng_state.pth  \n",
      "  inflating: TemBERTure-main/TemBERTure-main/temBERTure/temBERTure_TM/replica2/scheduler.pt  \n",
      "  inflating: TemBERTure-main/TemBERTure-main/temBERTure/temBERTure_TM/replica2/special_tokens_map.json  \n",
      "  inflating: TemBERTure-main/TemBERTure-main/temBERTure/temBERTure_TM/replica2/tokenizer.json  \n",
      "  inflating: TemBERTure-main/TemBERTure-main/temBERTure/temBERTure_TM/replica2/tokenizer_config.json  \n",
      "  inflating: TemBERTure-main/TemBERTure-main/temBERTure/temBERTure_TM/replica2/trainer_state.json  \n",
      "  inflating: TemBERTure-main/TemBERTure-main/temBERTure/temBERTure_TM/replica2/training_args.bin  \n",
      "  inflating: TemBERTure-main/TemBERTure-main/temBERTure/temBERTure_TM/replica2/vocab.txt  \n",
      "   creating: TemBERTure-main/TemBERTure-main/temBERTure/temBERTure_TM/replica3/\n",
      "   creating: TemBERTure-main/TemBERTure-main/temBERTure/temBERTure_TM/replica3/AdapterBERT_adapter/\n",
      "  inflating: TemBERTure-main/TemBERTure-main/temBERTure/temBERTure_TM/replica3/AdapterBERT_adapter/adapter_config.json  \n",
      "  inflating: TemBERTure-main/TemBERTure-main/temBERTure/temBERTure_TM/replica3/AdapterBERT_adapter/pytorch_adapter.bin  \n",
      "   creating: TemBERTure-main/TemBERTure-main/temBERTure/temBERTure_TM/replica3/AdapterBERT_head_adapter/\n",
      "  inflating: TemBERTure-main/TemBERTure-main/temBERTure/temBERTure_TM/replica3/AdapterBERT_head_adapter/head_config.json  \n",
      "  inflating: TemBERTure-main/TemBERTure-main/temBERTure/temBERTure_TM/replica3/AdapterBERT_head_adapter/pytorch_model_head.bin  \n",
      "  inflating: TemBERTure-main/TemBERTure-main/temBERTure/temBERTure_TM/replica3/config.json  \n",
      "  inflating: TemBERTure-main/TemBERTure-main/temBERTure/temBERTure_TM/replica3/generation_config.json  \n",
      "  inflating: TemBERTure-main/TemBERTure-main/temBERTure/temBERTure_TM/replica3/optimizer.pt  \n",
      "  inflating: TemBERTure-main/TemBERTure-main/temBERTure/temBERTure_TM/replica3/rng_state.pth  \n",
      "  inflating: TemBERTure-main/TemBERTure-main/temBERTure/temBERTure_TM/replica3/scheduler.pt  \n",
      "  inflating: TemBERTure-main/TemBERTure-main/temBERTure/temBERTure_TM/replica3/special_tokens_map.json  \n",
      "  inflating: TemBERTure-main/TemBERTure-main/temBERTure/temBERTure_TM/replica3/tokenizer.json  \n",
      "  inflating: TemBERTure-main/TemBERTure-main/temBERTure/temBERTure_TM/replica3/tokenizer_config.json  \n",
      "  inflating: TemBERTure-main/TemBERTure-main/temBERTure/temBERTure_TM/replica3/trainer_state.json  \n",
      "  inflating: TemBERTure-main/TemBERTure-main/temBERTure/temBERTure_TM/replica3/training_args.bin  \n",
      "  inflating: TemBERTure-main/TemBERTure-main/temBERTure/temBERTure_TM/replica3/vocab.txt  \n"
     ]
    }
   ],
   "source": [
    "# Descomprimir\n",
    "!unzip TemBERTure-main.zip -d TemBERTure-main"
   ]
  },
  {
   "cell_type": "code",
   "execution_count": 8,
   "id": "f843bdc0-7b1c-41b2-b193-50213b1084bb",
   "metadata": {},
   "outputs": [
    {
     "name": "stdout",
     "output_type": "stream",
     "text": [
      "bin\t      etc      lib    pyvenv.cfg  TemBERTure-main\n",
      "correr.ipynb  include  lib64  share\t  TemBERTure-main.zip\n"
     ]
    }
   ],
   "source": [
    "!ls"
   ]
  },
  {
   "cell_type": "markdown",
   "id": "9d194191-271b-4411-a767-036fb064d5b7",
   "metadata": {},
   "source": [
    "#### Descargar las librerias necesarias"
   ]
  },
  {
   "cell_type": "code",
   "execution_count": 10,
   "id": "3ee0c811-4209-475f-8bb5-9ffa40a9c747",
   "metadata": {},
   "outputs": [
    {
     "name": "stdout",
     "output_type": "stream",
     "text": [
      "Collecting accelerate==0.26.1\n",
      "  Downloading accelerate-0.26.1-py3-none-any.whl (270 kB)\n",
      "\u001b[2K     \u001b[90m━━━━━━━━━━━━━━━━━━━━━━━━━━━━━━━━━━━━━\u001b[0m \u001b[32m270.9/270.9 KB\u001b[0m \u001b[31m544.0 kB/s\u001b[0m eta \u001b[36m0:00:00\u001b[0m00:01\u001b[0m00:01\u001b[0m\n",
      "\u001b[?25hCollecting adapters==0.1.1\n",
      "  Downloading adapters-0.1.1-py3-none-any.whl (252 kB)\n",
      "\u001b[2K     \u001b[90m━━━━━━━━━━━━━━━━━━━━━━━━━━━━━━━━━━━━━━\u001b[0m \u001b[32m252.8/252.8 KB\u001b[0m \u001b[31m96.0 kB/s\u001b[0m eta \u001b[36m0:00:00\u001b[0ma \u001b[36m0:00:01\u001b[0m\n",
      "\u001b[?25hCollecting aiohttp==3.9.1\n",
      "  Downloading aiohttp-3.9.1-cp310-cp310-manylinux_2_17_x86_64.manylinux2014_x86_64.whl (1.2 MB)\n",
      "\u001b[2K     \u001b[90m━━━━━━━━━━━━━━━━━━━━━━━━━━━━━━━━━━━━━━━━\u001b[0m \u001b[32m1.2/1.2 MB\u001b[0m \u001b[31m102.5 kB/s\u001b[0m eta \u001b[36m0:00:00\u001b[0m00:01\u001b[0m00:01\u001b[0m\n",
      "\u001b[?25hCollecting aiosignal==1.3.1\n",
      "  Downloading aiosignal-1.3.1-py3-none-any.whl (7.6 kB)\n",
      "Collecting anyio==4.2.0\n",
      "  Downloading anyio-4.2.0-py3-none-any.whl (85 kB)\n",
      "\u001b[2K     \u001b[90m━━━━━━━━━━━━━━━━━━━━━━━━━━━━━━━━━━━━━━━\u001b[0m \u001b[32m85.5/85.5 KB\u001b[0m \u001b[31m190.4 kB/s\u001b[0m eta \u001b[36m0:00:00\u001b[0ma \u001b[36m0:00:01\u001b[0m\n",
      "\u001b[?25hCollecting appdirs==1.4.4\n",
      "  Downloading appdirs-1.4.4-py2.py3-none-any.whl (9.6 kB)\n",
      "Requirement already satisfied: argon2-cffi==23.1.0 in ./lib/python3.10/site-packages (from -r TemBERTure-main/TemBERTure-main/temBERTure/requirements.txt (line 7)) (23.1.0)\n",
      "Requirement already satisfied: argon2-cffi-bindings==21.2.0 in ./lib/python3.10/site-packages (from -r TemBERTure-main/TemBERTure-main/temBERTure/requirements.txt (line 8)) (21.2.0)\n",
      "Requirement already satisfied: arrow==1.3.0 in ./lib/python3.10/site-packages (from -r TemBERTure-main/TemBERTure-main/temBERTure/requirements.txt (line 9)) (1.3.0)\n",
      "Collecting asttokens==2.1.0\n",
      "  Downloading asttokens-2.1.0-py2.py3-none-any.whl (26 kB)\n",
      "Collecting async-lru==2.0.4\n",
      "  Downloading async_lru-2.0.4-py3-none-any.whl (6.1 kB)\n",
      "Collecting async-timeout==4.0.3\n",
      "  Downloading async_timeout-4.0.3-py3-none-any.whl (5.7 kB)\n",
      "Collecting attrs==23.2.0\n",
      "  Downloading attrs-23.2.0-py3-none-any.whl (60 kB)\n",
      "\u001b[2K     \u001b[90m━━━━━━━━━━━━━━━━━━━━━━━━━━━━━━━━━━━━━━━\u001b[0m \u001b[32m60.8/60.8 KB\u001b[0m \u001b[31m137.3 kB/s\u001b[0m eta \u001b[36m0:00:00\u001b[0ma \u001b[36m0:00:01\u001b[0m\n",
      "\u001b[?25hCollecting Babel==2.14.0\n",
      "  Downloading Babel-2.14.0-py3-none-any.whl (11.0 MB)\n",
      "\u001b[2K     \u001b[90m━━━━━━━━━━━━━━━━━━━━━━━━━━━━━━━━━━━━━━━\u001b[0m \u001b[32m11.0/11.0 MB\u001b[0m \u001b[31m285.3 kB/s\u001b[0m eta \u001b[36m0:00:00\u001b[0m00:01\u001b[0m00:09\u001b[0m\n",
      "\u001b[?25hCollecting backcall==0.2.0\n",
      "  Downloading backcall-0.2.0-py2.py3-none-any.whl (11 kB)\n",
      "Collecting beautifulsoup4==4.12.3\n",
      "  Downloading beautifulsoup4-4.12.3-py3-none-any.whl (147 kB)\n",
      "\u001b[2K     \u001b[90m━━━━━━━━━━━━━━━━━━━━━━━━━━━━━━━━━━━━━━\u001b[0m \u001b[32m147.9/147.9 KB\u001b[0m \u001b[31m62.2 MB/s\u001b[0m eta \u001b[36m0:00:00\u001b[0m\n",
      "\u001b[?25hCollecting biopython==1.79\n",
      "  Downloading biopython-1.79-cp310-cp310-manylinux_2_17_x86_64.manylinux2014_x86_64.whl (2.7 MB)\n",
      "\u001b[2K     \u001b[90m━━━━━━━━━━━━━━━━━━━━━━━━━━━━━━━━━━━━━━━━\u001b[0m \u001b[32m2.7/2.7 MB\u001b[0m \u001b[31m13.1 MB/s\u001b[0m eta \u001b[36m0:00:00\u001b[0ma \u001b[36m0:00:01\u001b[0mm\n",
      "\u001b[?25hCollecting biotite==0.39.0\n",
      "  Downloading biotite-0.39.0-cp310-cp310-manylinux_2_17_x86_64.manylinux2014_x86_64.whl (52.8 MB)\n",
      "\u001b[2K     \u001b[90m━━━━━━━━━━━━━━━━━━━━━━━━━━━━━━━━━━━━━━━━\u001b[0m \u001b[32m52.8/52.8 MB\u001b[0m \u001b[31m5.3 MB/s\u001b[0m eta \u001b[36m0:00:00\u001b[0m00:01\u001b[0m00:01\u001b[0m\n",
      "\u001b[?25hCollecting bleach==6.1.0\n",
      "  Downloading bleach-6.1.0-py3-none-any.whl (162 kB)\n",
      "\u001b[2K     \u001b[90m━━━━━━━━━━━━━━━━━━━━━━━━━━━━━━━━━━━━━\u001b[0m \u001b[32m162.8/162.8 KB\u001b[0m \u001b[31m104.9 MB/s\u001b[0m eta \u001b[36m0:00:00\u001b[0m\n",
      "\u001b[?25hCollecting certifi==2023.11.17\n",
      "  Downloading certifi-2023.11.17-py3-none-any.whl (162 kB)\n",
      "\u001b[2K     \u001b[90m━━━━━━━━━━━━━━━━━━━━━━━━━━━━━━━━━━━━━━\u001b[0m \u001b[32m162.5/162.5 KB\u001b[0m \u001b[31m71.1 MB/s\u001b[0m eta \u001b[36m0:00:00\u001b[0m\n",
      "\u001b[?25hCollecting cffi==1.16.0\n",
      "  Downloading cffi-1.16.0-cp310-cp310-manylinux_2_17_x86_64.manylinux2014_x86_64.whl (443 kB)\n",
      "\u001b[2K     \u001b[90m━━━━━━━━━━━━━━━━━━━━━━━━━━━━━━━━━━━━━━\u001b[0m \u001b[32m443.9/443.9 KB\u001b[0m \u001b[31m27.8 MB/s\u001b[0m eta \u001b[36m0:00:00\u001b[0m\n",
      "\u001b[?25hCollecting charset-normalizer==3.3.2\n",
      "  Downloading charset_normalizer-3.3.2-cp310-cp310-manylinux_2_17_x86_64.manylinux2014_x86_64.whl (142 kB)\n",
      "\u001b[2K     \u001b[90m━━━━━━━━━━━━━━━━━━━━━━━━━━━━━━━━━━━━━━\u001b[0m \u001b[32m142.1/142.1 KB\u001b[0m \u001b[31m82.2 MB/s\u001b[0m eta \u001b[36m0:00:00\u001b[0m\n",
      "\u001b[?25hCollecting click==8.1.7\n",
      "  Downloading click-8.1.7-py3-none-any.whl (97 kB)\n",
      "\u001b[2K     \u001b[90m━━━━━━━━━━━━━━━━━━━━━━━━━━━━━━━━━━━━━━━━\u001b[0m \u001b[32m97.9/97.9 KB\u001b[0m \u001b[31m47.2 MB/s\u001b[0m eta \u001b[36m0:00:00\u001b[0m\n",
      "\u001b[?25hCollecting comm==0.2.1\n",
      "  Downloading comm-0.2.1-py3-none-any.whl (7.2 kB)\n",
      "Collecting contourpy==1.2.0\n",
      "  Downloading contourpy-1.2.0-cp310-cp310-manylinux_2_17_x86_64.manylinux2014_x86_64.whl (310 kB)\n",
      "\u001b[2K     \u001b[90m━━━━━━━━━━━━━━━━━━━━━━━━━━━━━━━━━━━━━━\u001b[0m \u001b[32m310.7/310.7 KB\u001b[0m \u001b[31m90.6 MB/s\u001b[0m eta \u001b[36m0:00:00\u001b[0m\n",
      "\u001b[?25hRequirement already satisfied: cycler==0.12.1 in ./lib/python3.10/site-packages (from -r TemBERTure-main/TemBERTure-main/temBERTure/requirements.txt (line 26)) (0.12.1)\n",
      "Collecting datasets==2.16.1\n",
      "  Downloading datasets-2.16.1-py3-none-any.whl (507 kB)\n",
      "\u001b[2K     \u001b[90m━━━━━━━━━━━━━━━━━━━━━━━━━━━━━━━━━━━━━━\u001b[0m \u001b[32m507.1/507.1 KB\u001b[0m \u001b[31m31.0 MB/s\u001b[0m eta \u001b[36m0:00:00\u001b[0m\n",
      "\u001b[?25hCollecting debugpy==1.6.3\n",
      "  Downloading debugpy-1.6.3-cp310-cp310-manylinux_2_5_x86_64.manylinux1_x86_64.manylinux_2_12_x86_64.manylinux2010_x86_64.whl (1.8 MB)\n",
      "\u001b[2K     \u001b[90m━━━━━━━━━━━━━━━━━━━━━━━━━━━━━━━━━━━━━━━━\u001b[0m \u001b[32m1.8/1.8 MB\u001b[0m \u001b[31m6.6 MB/s\u001b[0m eta \u001b[36m0:00:00\u001b[0ma \u001b[36m0:00:01\u001b[0m0m\n",
      "\u001b[?25hCollecting decorator==5.1.1\n",
      "  Downloading decorator-5.1.1-py3-none-any.whl (9.1 kB)\n",
      "Requirement already satisfied: defusedxml==0.7.1 in ./lib/python3.10/site-packages (from -r TemBERTure-main/TemBERTure-main/temBERTure/requirements.txt (line 30)) (0.7.1)\n",
      "Collecting dill==0.3.7\n",
      "  Downloading dill-0.3.7-py3-none-any.whl (115 kB)\n",
      "\u001b[2K     \u001b[90m━━━━━━━━━━━━━━━━━━━━━━━━━━━━━━━━━━━━━━\u001b[0m \u001b[32m115.3/115.3 KB\u001b[0m \u001b[31m43.9 MB/s\u001b[0m eta \u001b[36m0:00:00\u001b[0m\n",
      "\u001b[?25hCollecting distlib==0.3.6\n",
      "  Downloading distlib-0.3.6-py2.py3-none-any.whl (468 kB)\n",
      "\u001b[2K     \u001b[90m━━━━━━━━━━━━━━━━━━━━━━━━━━━━━━━━━━━━━\u001b[0m \u001b[32m468.5/468.5 KB\u001b[0m \u001b[31m119.2 MB/s\u001b[0m eta \u001b[36m0:00:00\u001b[0m\n",
      "\u001b[?25hCollecting docker-pycreds==0.4.0\n",
      "  Downloading docker_pycreds-0.4.0-py2.py3-none-any.whl (9.0 kB)\n",
      "Collecting entrypoints==0.4\n",
      "  Downloading entrypoints-0.4-py3-none-any.whl (5.3 kB)\n",
      "Collecting executing==1.2.0\n",
      "  Downloading executing-1.2.0-py2.py3-none-any.whl (24 kB)\n",
      "Collecting fastjsonschema==2.19.1\n",
      "  Downloading fastjsonschema-2.19.1-py3-none-any.whl (23 kB)\n",
      "Collecting filelock==3.9.1\n",
      "  Downloading filelock-3.9.1-py3-none-any.whl (9.7 kB)\n",
      "Collecting fonttools==4.47.2\n",
      "  Downloading fonttools-4.47.2-cp310-cp310-manylinux_2_17_x86_64.manylinux2014_x86_64.whl (4.6 MB)\n",
      "\u001b[2K     \u001b[90m━━━━━━━━━━━━━━━━━━━━━━━━━━━━━━━━━━━━━━━━\u001b[0m \u001b[32m4.6/4.6 MB\u001b[0m \u001b[31m39.2 MB/s\u001b[0m eta \u001b[36m0:00:00\u001b[0m00:01\u001b[0m:00:01\u001b[0m\n",
      "\u001b[?25hRequirement already satisfied: fqdn==1.5.1 in ./lib/python3.10/site-packages (from -r TemBERTure-main/TemBERTure-main/temBERTure/requirements.txt (line 39)) (1.5.1)\n",
      "Collecting frozenlist==1.4.1\n",
      "  Downloading frozenlist-1.4.1-cp310-cp310-manylinux_2_5_x86_64.manylinux1_x86_64.manylinux_2_17_x86_64.manylinux2014_x86_64.whl (239 kB)\n",
      "\u001b[2K     \u001b[90m━━━━━━━━━━━━━━━━━━━━━━━━━━━━━━━━━━━━━━\u001b[0m \u001b[32m239.5/239.5 KB\u001b[0m \u001b[31m95.0 MB/s\u001b[0m eta \u001b[36m0:00:00\u001b[0m\n",
      "\u001b[?25hCollecting fsspec==2023.10.0\n",
      "  Downloading fsspec-2023.10.0-py3-none-any.whl (166 kB)\n",
      "\u001b[2K     \u001b[90m━━━━━━━━━━━━━━━━━━━━━━━━━━━━━━━━━━━━━\u001b[0m \u001b[32m166.4/166.4 KB\u001b[0m \u001b[31m101.6 MB/s\u001b[0m eta \u001b[36m0:00:00\u001b[0m\n",
      "\u001b[?25hCollecting gitdb==4.0.11\n",
      "  Downloading gitdb-4.0.11-py3-none-any.whl (62 kB)\n",
      "\u001b[2K     \u001b[90m━━━━━━━━━━━━━━━━━━━━━━━━━━━━━━━━━━━━━━━━\u001b[0m \u001b[32m62.7/62.7 KB\u001b[0m \u001b[31m42.8 MB/s\u001b[0m eta \u001b[36m0:00:00\u001b[0m\n",
      "\u001b[?25hCollecting GitPython==3.1.41\n",
      "  Downloading GitPython-3.1.41-py3-none-any.whl (196 kB)\n",
      "\u001b[2K     \u001b[90m━━━━━━━━━━━━━━━━━━━━━━━━━━━━━━━━━━━━━━\u001b[0m \u001b[32m196.4/196.4 KB\u001b[0m \u001b[31m90.9 MB/s\u001b[0m eta \u001b[36m0:00:00\u001b[0m\n",
      "\u001b[?25hCollecting huggingface-hub==0.20.3\n",
      "  Downloading huggingface_hub-0.20.3-py3-none-any.whl (330 kB)\n",
      "\u001b[2K     \u001b[90m━━━━━━━━━━━━━━━━━━━━━━━━━━━━━━━━━━━━━━\u001b[0m \u001b[32m330.1/330.1 KB\u001b[0m \u001b[31m90.1 MB/s\u001b[0m eta \u001b[36m0:00:00\u001b[0m\n",
      "\u001b[?25hCollecting idna==3.6\n",
      "  Downloading idna-3.6-py3-none-any.whl (61 kB)\n",
      "\u001b[2K     \u001b[90m━━━━━━━━━━━━━━━━━━━━━━━━━━━━━━━━━━━━━━━━\u001b[0m \u001b[32m61.6/61.6 KB\u001b[0m \u001b[31m37.9 MB/s\u001b[0m eta \u001b[36m0:00:00\u001b[0m\n",
      "\u001b[?25hCollecting importlib-metadata==7.0.1\n",
      "  Downloading importlib_metadata-7.0.1-py3-none-any.whl (23 kB)\n",
      "Collecting importlib-resources==6.1.1\n",
      "  Downloading importlib_resources-6.1.1-py3-none-any.whl (33 kB)\n",
      "Collecting ipykernel==6.17.0\n",
      "  Downloading ipykernel-6.17.0-py3-none-any.whl (138 kB)\n",
      "\u001b[2K     \u001b[90m━━━━━━━━━━━━━━━━━━━━━━━━━━━━━━━━━━━━━━\u001b[0m \u001b[32m138.5/138.5 KB\u001b[0m \u001b[31m57.7 MB/s\u001b[0m eta \u001b[36m0:00:00\u001b[0m\n",
      "\u001b[?25hCollecting ipython==8.6.0\n",
      "  Downloading ipython-8.6.0-py3-none-any.whl (761 kB)\n",
      "\u001b[2K     \u001b[90m━━━━━━━━━━━━━━━━━━━━━━━━━━━━━━━━━━━━━━\u001b[0m \u001b[32m761.1/761.1 KB\u001b[0m \u001b[31m52.0 MB/s\u001b[0m eta \u001b[36m0:00:00\u001b[0m\n",
      "\u001b[?25hCollecting ipywidgets==8.1.1\n",
      "  Downloading ipywidgets-8.1.1-py3-none-any.whl (139 kB)\n",
      "\u001b[2K     \u001b[90m━━━━━━━━━━━━━━━━━━━━━━━━━━━━━━━━━━━━━━\u001b[0m \u001b[32m139.4/139.4 KB\u001b[0m \u001b[31m55.9 MB/s\u001b[0m eta \u001b[36m0:00:00\u001b[0m\n",
      "\u001b[?25hRequirement already satisfied: isoduration==20.11.0 in ./lib/python3.10/site-packages (from -r TemBERTure-main/TemBERTure-main/temBERTure/requirements.txt (line 51)) (20.11.0)\n",
      "Collecting jedi==0.18.1\n",
      "  Downloading jedi-0.18.1-py2.py3-none-any.whl (1.6 MB)\n",
      "\u001b[2K     \u001b[90m━━━━━━━━━━━━━━━━━━━━━━━━━━━━━━━━━━━━━━━━\u001b[0m \u001b[32m1.6/1.6 MB\u001b[0m \u001b[31m66.9 MB/s\u001b[0m eta \u001b[36m0:00:00\u001b[0m\n",
      "\u001b[?25hCollecting Jinja2==3.1.3\n",
      "  Downloading Jinja2-3.1.3-py3-none-any.whl (133 kB)\n",
      "\u001b[2K     \u001b[90m━━━━━━━━━━━━━━━━━━━━━━━━━━━━━━━━━━━━━━\u001b[0m \u001b[32m133.2/133.2 KB\u001b[0m \u001b[31m66.1 MB/s\u001b[0m eta \u001b[36m0:00:00\u001b[0m\n",
      "\u001b[?25hCollecting joblib==1.3.2\n",
      "  Downloading joblib-1.3.2-py3-none-any.whl (302 kB)\n",
      "\u001b[2K     \u001b[90m━━━━━━━━━━━━━━━━━━━━━━━━━━━━━━━━━━━━━━\u001b[0m \u001b[32m302.2/302.2 KB\u001b[0m \u001b[31m83.3 MB/s\u001b[0m eta \u001b[36m0:00:00\u001b[0m\n",
      "\u001b[?25hCollecting json5==0.9.14\n",
      "  Downloading json5-0.9.14-py2.py3-none-any.whl (19 kB)\n",
      "Collecting jsonpointer==2.4\n",
      "  Downloading jsonpointer-2.4-py2.py3-none-any.whl (7.8 kB)\n",
      "Collecting jsonschema==4.21.1\n",
      "  Downloading jsonschema-4.21.1-py3-none-any.whl (85 kB)\n",
      "\u001b[2K     \u001b[90m━━━━━━━━━━━━━━━━━━━━━━━━━━━━━━━━━━━━━━━━\u001b[0m \u001b[32m85.5/85.5 KB\u001b[0m \u001b[31m41.7 MB/s\u001b[0m eta \u001b[36m0:00:00\u001b[0m\n",
      "\u001b[?25hCollecting jsonschema-specifications==2023.12.1\n",
      "  Downloading jsonschema_specifications-2023.12.1-py3-none-any.whl (18 kB)\n",
      "Collecting jupyter-events==0.9.0\n",
      "  Downloading jupyter_events-0.9.0-py3-none-any.whl (18 kB)\n",
      "Collecting jupyter-lsp==2.2.2\n",
      "  Downloading jupyter_lsp-2.2.2-py3-none-any.whl (68 kB)\n",
      "\u001b[2K     \u001b[90m━━━━━━━━━━━━━━━━━━━━━━━━━━━━━━━━━━━━━━━━\u001b[0m \u001b[32m68.8/68.8 KB\u001b[0m \u001b[31m17.5 MB/s\u001b[0m eta \u001b[36m0:00:00\u001b[0m\n",
      "\u001b[?25hCollecting jupyter_client==7.4.4\n",
      "  Downloading jupyter_client-7.4.4-py3-none-any.whl (132 kB)\n",
      "\u001b[2K     \u001b[90m━━━━━━━━━━━━━━━━━━━━━━━━━━━━━━━━━━━━━━\u001b[0m \u001b[32m132.3/132.3 KB\u001b[0m \u001b[31m89.0 MB/s\u001b[0m eta \u001b[36m0:00:00\u001b[0m\n",
      "\u001b[?25hCollecting jupyter_core==5.7.1\n",
      "  Downloading jupyter_core-5.7.1-py3-none-any.whl (28 kB)\n",
      "Collecting jupyter_server==2.12.5\n",
      "  Downloading jupyter_server-2.12.5-py3-none-any.whl (380 kB)\n",
      "\u001b[2K     \u001b[90m━━━━━━━━━━━━━━━━━━━━━━━━━━━━━━━━━━━━━━\u001b[0m \u001b[32m380.3/380.3 KB\u001b[0m \u001b[31m27.5 MB/s\u001b[0m eta \u001b[36m0:00:00\u001b[0m\n",
      "\u001b[?25hCollecting jupyter_server_terminals==0.5.2\n",
      "  Downloading jupyter_server_terminals-0.5.2-py3-none-any.whl (13 kB)\n",
      "Collecting jupyterlab==4.0.11\n",
      "  Downloading jupyterlab-4.0.11-py3-none-any.whl (9.2 MB)\n",
      "\u001b[2K     \u001b[90m━━━━━━━━━━━━━━━━━━━━━━━━━━━━━━━━━━━━━━━━\u001b[0m \u001b[32m9.2/9.2 MB\u001b[0m \u001b[31m6.7 MB/s\u001b[0m eta \u001b[36m0:00:00\u001b[0ma \u001b[36m0:00:01\u001b[0m0m\n",
      "\u001b[?25hCollecting jupyterlab-widgets==3.0.9\n",
      "  Downloading jupyterlab_widgets-3.0.9-py3-none-any.whl (214 kB)\n",
      "\u001b[2K     \u001b[90m━━━━━━━━━━━━━━━━━━━━━━━━━━━━━━━━━━━━━━\u001b[0m \u001b[32m214.9/214.9 KB\u001b[0m \u001b[31m81.8 MB/s\u001b[0m eta \u001b[36m0:00:00\u001b[0m\n",
      "\u001b[?25hRequirement already satisfied: jupyterlab_pygments==0.3.0 in ./lib/python3.10/site-packages (from -r TemBERTure-main/TemBERTure-main/temBERTure/requirements.txt (line 67)) (0.3.0)\n",
      "Collecting jupyterlab_server==2.25.2\n",
      "  Downloading jupyterlab_server-2.25.2-py3-none-any.whl (58 kB)\n",
      "\u001b[2K     \u001b[90m━━━━━━━━━━━━━━━━━━━━━━━━━━━━━━━━━━━━━━━━\u001b[0m \u001b[32m58.9/58.9 KB\u001b[0m \u001b[31m50.9 MB/s\u001b[0m eta \u001b[36m0:00:00\u001b[0m\n",
      "\u001b[?25hCollecting kiwisolver==1.4.5\n",
      "  Downloading kiwisolver-1.4.5-cp310-cp310-manylinux_2_12_x86_64.manylinux2010_x86_64.whl (1.6 MB)\n",
      "\u001b[2K     \u001b[90m━━━━━━━━━━━━━━━━━━━━━━━━━━━━━━━━━━━━━━━━\u001b[0m \u001b[32m1.6/1.6 MB\u001b[0m \u001b[31m64.5 MB/s\u001b[0m eta \u001b[36m0:00:00\u001b[0m\n",
      "\u001b[?25hCollecting MarkupSafe==2.1.4\n",
      "  Downloading MarkupSafe-2.1.4-cp310-cp310-manylinux_2_17_x86_64.manylinux2014_x86_64.whl (25 kB)\n",
      "Collecting matplotlib==3.8.2\n",
      "  Downloading matplotlib-3.8.2-cp310-cp310-manylinux_2_17_x86_64.manylinux2014_x86_64.whl (11.6 MB)\n",
      "\u001b[2K     \u001b[90m━━━━━━━━━━━━━━━━━━━━━━━━━━━━━━━━━━━━━━━━\u001b[0m \u001b[32m11.6/11.6 MB\u001b[0m \u001b[31m9.3 MB/s\u001b[0m eta \u001b[36m0:00:00\u001b[0m00:01\u001b[0m:00:01\u001b[0m\n",
      "\u001b[?25hCollecting matplotlib-inline==0.1.6\n",
      "  Downloading matplotlib_inline-0.1.6-py3-none-any.whl (9.4 kB)\n",
      "Collecting mistune==3.0.2\n",
      "  Downloading mistune-3.0.2-py3-none-any.whl (47 kB)\n",
      "\u001b[2K     \u001b[90m━━━━━━━━━━━━━━━━━━━━━━━━━━━━━━━━━━━━━━━━\u001b[0m \u001b[32m48.0/48.0 KB\u001b[0m \u001b[31m36.9 MB/s\u001b[0m eta \u001b[36m0:00:00\u001b[0m\n",
      "\u001b[?25hCollecting mkl-service==2.4.0\n",
      "  Downloading mkl_service-2.4.0-35-cp310-cp310-manylinux2014_x86_64.whl (57 kB)\n",
      "\u001b[2K     \u001b[90m━━━━━━━━━━━━━━━━━━━━━━━━━━━━━━━━━━━━━━━━\u001b[0m \u001b[32m57.3/57.3 KB\u001b[0m \u001b[31m3.9 MB/s\u001b[0m eta \u001b[36m0:00:00\u001b[0m\n",
      "\u001b[?25hCollecting msgpack==1.0.7\n",
      "  Downloading msgpack-1.0.7-cp310-cp310-manylinux_2_17_x86_64.manylinux2014_x86_64.whl (530 kB)\n",
      "\u001b[2K     \u001b[90m━━━━━━━━━━━━━━━━━━━━━━━━━━━━━━━━━━━━━━\u001b[0m \u001b[32m530.8/530.8 KB\u001b[0m \u001b[31m97.9 MB/s\u001b[0m eta \u001b[36m0:00:00\u001b[0m\n",
      "\u001b[?25hCollecting multidict==6.0.4\n",
      "  Downloading multidict-6.0.4-cp310-cp310-manylinux_2_17_x86_64.manylinux2014_x86_64.whl (114 kB)\n",
      "\u001b[2K     \u001b[90m━━━━━━━━━━━━━━━━━━━━━━━━━━━━━━━━━━━━━━━\u001b[0m \u001b[32m114.5/114.5 KB\u001b[0m \u001b[31m8.7 MB/s\u001b[0m eta \u001b[36m0:00:00\u001b[0m\n",
      "\u001b[?25hCollecting multiprocess==0.70.15\n",
      "  Downloading multiprocess-0.70.15-py310-none-any.whl (134 kB)\n",
      "\u001b[2K     \u001b[90m━━━━━━━━━━━━━━━━━━━━━━━━━━━━━━━━━━━━━━\u001b[0m \u001b[32m134.8/134.8 KB\u001b[0m \u001b[31m80.0 MB/s\u001b[0m eta \u001b[36m0:00:00\u001b[0m\n",
      "\u001b[?25hCollecting nbclient==0.9.0\n",
      "  Downloading nbclient-0.9.0-py3-none-any.whl (24 kB)\n",
      "Collecting nbconvert==7.14.2\n",
      "  Downloading nbconvert-7.14.2-py3-none-any.whl (256 kB)\n",
      "\u001b[2K     \u001b[90m━━━━━━━━━━━━━━━━━━━━━━━━━━━━━━━━━━━━━━\u001b[0m \u001b[32m256.4/256.4 KB\u001b[0m \u001b[31m88.1 MB/s\u001b[0m eta \u001b[36m0:00:00\u001b[0m\n",
      "\u001b[?25hCollecting nbformat==5.9.2\n",
      "  Downloading nbformat-5.9.2-py3-none-any.whl (77 kB)\n",
      "\u001b[2K     \u001b[90m━━━━━━━━━━━━━━━━━━━━━━━━━━━━━━━━━━━━━━━━\u001b[0m \u001b[32m77.6/77.6 KB\u001b[0m \u001b[31m47.6 MB/s\u001b[0m eta \u001b[36m0:00:00\u001b[0m\n",
      "\u001b[?25hCollecting nest-asyncio==1.5.6\n",
      "  Downloading nest_asyncio-1.5.6-py3-none-any.whl (5.2 kB)\n",
      "Collecting networkx==3.2.1\n",
      "  Downloading networkx-3.2.1-py3-none-any.whl (1.6 MB)\n",
      "\u001b[2K     \u001b[90m━━━━━━━━━━━━━━━━━━━━━━━━━━━━━━━━━━━━━━━━\u001b[0m \u001b[32m1.6/1.6 MB\u001b[0m \u001b[31m101.8 MB/s\u001b[0m eta \u001b[36m0:00:00\u001b[0m\n",
      "\u001b[?25hCollecting nglview==3.0.8\n",
      "  Downloading nglview-3.0.8.tar.gz (6.8 MB)\n",
      "\u001b[2K     \u001b[90m━━━━━━━━━━━━━━━━━━━━━━━━━━━━━━━━━━━━━━━━\u001b[0m \u001b[32m6.8/6.8 MB\u001b[0m \u001b[31m4.7 MB/s\u001b[0m eta \u001b[36m0:00:00\u001b[0m00:01\u001b[0m00:01\u001b[0mmm\n",
      "\u001b[?25h  Installing build dependencies ... \u001b[?25ldone\n",
      "\u001b[?25h  Getting requirements to build wheel ... \u001b[?25ldone\n",
      "\u001b[?25h  Preparing metadata (pyproject.toml) ... \u001b[?25ldone\n",
      "\u001b[?25hCollecting notebook==7.0.7\n",
      "  Downloading notebook-7.0.7-py3-none-any.whl (4.0 MB)\n",
      "\u001b[2K     \u001b[90m━━━━━━━━━━━━━━━━━━━━━━━━━━━━━━━━━━━━━━━━\u001b[0m \u001b[32m4.0/4.0 MB\u001b[0m \u001b[31m27.9 MB/s\u001b[0m eta \u001b[36m0:00:00\u001b[0m00:01\u001b[0m:00:01\u001b[0m\n",
      "\u001b[?25hCollecting notebook_shim==0.2.3\n",
      "  Downloading notebook_shim-0.2.3-py3-none-any.whl (13 kB)\n",
      "Collecting numpy==1.23.5\n",
      "  Downloading numpy-1.23.5-cp310-cp310-manylinux_2_17_x86_64.manylinux2014_x86_64.whl (17.1 MB)\n",
      "\u001b[2K     \u001b[90m━━━━━━━━━━━━━━━━━━━━━━━━━━━━━━━━━━━━━━━━\u001b[0m \u001b[32m17.1/17.1 MB\u001b[0m \u001b[31m85.0 MB/s\u001b[0m eta \u001b[36m0:00:00\u001b[0m00:01\u001b[0m00:01\u001b[0m\n",
      "\u001b[?25hRequirement already satisfied: overrides==7.7.0 in ./lib/python3.10/site-packages (from -r TemBERTure-main/TemBERTure-main/temBERTure/requirements.txt (line 87)) (7.7.0)\n",
      "Collecting packaging==21.3\n",
      "  Downloading packaging-21.3-py3-none-any.whl (40 kB)\n",
      "\u001b[2K     \u001b[90m━━━━━━━━━━━━━━━━━━━━━━━━━━━━━━━━━━━━━━━━\u001b[0m \u001b[32m40.8/40.8 KB\u001b[0m \u001b[31m28.2 MB/s\u001b[0m eta \u001b[36m0:00:00\u001b[0m\n",
      "\u001b[?25hCollecting pandas==2.2.0\n",
      "  Downloading pandas-2.2.0-cp310-cp310-manylinux_2_17_x86_64.manylinux2014_x86_64.whl (13.0 MB)\n",
      "\u001b[2K     \u001b[90m━━━━━━━━━━━━━━━━━━━━━━━━━━━━━━━━━━━━━━━━\u001b[0m \u001b[32m13.0/13.0 MB\u001b[0m \u001b[31m83.7 MB/s\u001b[0m eta \u001b[36m0:00:00\u001b[0m00:01\u001b[0m00:01\u001b[0m\n",
      "\u001b[?25hRequirement already satisfied: pandocfilters==1.5.1 in ./lib/python3.10/site-packages (from -r TemBERTure-main/TemBERTure-main/temBERTure/requirements.txt (line 90)) (1.5.1)\n",
      "Collecting parso==0.8.3\n",
      "  Downloading parso-0.8.3-py2.py3-none-any.whl (100 kB)\n",
      "\u001b[2K     \u001b[90m━━━━━━━━━━━━━━━━━━━━━━━━━━━━━━━━━━━━━━\u001b[0m \u001b[32m100.8/100.8 KB\u001b[0m \u001b[31m37.4 MB/s\u001b[0m eta \u001b[36m0:00:00\u001b[0m\n",
      "\u001b[?25hCollecting pexpect==4.8.0\n",
      "  Downloading pexpect-4.8.0-py2.py3-none-any.whl (59 kB)\n",
      "\u001b[2K     \u001b[90m━━━━━━━━━━━━━━━━━━━━━━━━━━━━━━━━━━━━━━━━\u001b[0m \u001b[32m59.0/59.0 KB\u001b[0m \u001b[31m20.2 MB/s\u001b[0m eta \u001b[36m0:00:00\u001b[0m\n",
      "\u001b[?25hCollecting pickleshare==0.7.5\n",
      "  Downloading pickleshare-0.7.5-py2.py3-none-any.whl (6.9 kB)\n",
      "Collecting platformdirs==3.1.1\n",
      "  Downloading platformdirs-3.1.1-py3-none-any.whl (14 kB)\n",
      "Collecting ProDy==2.4.1\n",
      "  Downloading ProDy-2.4.1.tar.gz (21.7 MB)\n",
      "\u001b[2K     \u001b[90m━━━━━━━━━━━━━━━━━━━━━━━━━━━━━━━━━━━━━━━━\u001b[0m \u001b[32m21.7/21.7 MB\u001b[0m \u001b[31m4.8 MB/s\u001b[0m eta \u001b[36m0:00:00\u001b[0m00:01\u001b[0m00:01\u001b[0mm\n",
      "\u001b[?25h  Installing build dependencies ... \u001b[?25ldone\n",
      "\u001b[?25h  Getting requirements to build wheel ... \u001b[?25ldone\n",
      "\u001b[?25h  Preparing metadata (pyproject.toml) ... \u001b[?25ldone\n",
      "\u001b[?25hCollecting prometheus-client==0.19.0\n",
      "  Downloading prometheus_client-0.19.0-py3-none-any.whl (54 kB)\n",
      "\u001b[2K     \u001b[90m━━━━━━━━━━━━━━━━━━━━━━━━━━━━━━━━━━━━━━━━\u001b[0m \u001b[32m54.2/54.2 KB\u001b[0m \u001b[31m3.6 MB/s\u001b[0m eta \u001b[36m0:00:00\u001b[0m\n",
      "\u001b[?25hCollecting prompt-toolkit==3.0.32\n",
      "  Downloading prompt_toolkit-3.0.32-py3-none-any.whl (382 kB)\n",
      "\u001b[2K     \u001b[90m━━━━━━━━━━━━━━━━━━━━━━━━━━━━━━━━━━━━━━\u001b[0m \u001b[32m382.8/382.8 KB\u001b[0m \u001b[31m25.3 MB/s\u001b[0m eta \u001b[36m0:00:00\u001b[0m\n",
      "\u001b[?25hCollecting protobuf==4.25.2\n",
      "  Downloading protobuf-4.25.2-cp37-abi3-manylinux2014_x86_64.whl (294 kB)\n",
      "\u001b[2K     \u001b[90m━━━━━━━━━━━━━━━━━━━━━━━━━━━━━━━━━━━━━━\u001b[0m \u001b[32m294.6/294.6 KB\u001b[0m \u001b[31m20.2 MB/s\u001b[0m eta \u001b[36m0:00:00\u001b[0m\n",
      "\u001b[?25hCollecting psutil==5.9.8\n",
      "  Downloading psutil-5.9.8-cp36-abi3-manylinux_2_12_x86_64.manylinux2010_x86_64.manylinux_2_17_x86_64.manylinux2014_x86_64.whl (288 kB)\n",
      "\u001b[2K     \u001b[90m━━━━━━━━━━━━━━━━━━━━━━━━━━━━━━━━━━━━━━\u001b[0m \u001b[32m288.2/288.2 KB\u001b[0m \u001b[31m89.8 MB/s\u001b[0m eta \u001b[36m0:00:00\u001b[0m\n",
      "\u001b[?25hRequirement already satisfied: ptyprocess==0.7.0 in ./lib/python3.10/site-packages (from -r TemBERTure-main/TemBERTure-main/temBERTure/requirements.txt (line 100)) (0.7.0)\n",
      "Collecting pure-eval==0.2.2\n",
      "  Downloading pure_eval-0.2.2-py3-none-any.whl (11 kB)\n",
      "Collecting pyarrow==15.0.0\n",
      "  Downloading pyarrow-15.0.0-cp310-cp310-manylinux_2_28_x86_64.whl (38.3 MB)\n",
      "\u001b[2K     \u001b[90m━━━━━━━━━━━━━━━━━━━━━━━━━━━━━━━━━━━━━━━━\u001b[0m \u001b[32m38.3/38.3 MB\u001b[0m \u001b[31m6.2 MB/s\u001b[0m eta \u001b[36m0:00:00\u001b[0m00:01\u001b[0m00:01\u001b[0mm\n",
      "\u001b[?25hCollecting pyarrow-hotfix==0.6\n",
      "  Downloading pyarrow_hotfix-0.6-py3-none-any.whl (7.9 kB)\n",
      "Collecting pycparser==2.21\n",
      "  Downloading pycparser-2.21-py2.py3-none-any.whl (118 kB)\n",
      "\u001b[2K     \u001b[90m━━━━━━━━━━━━━━━━━━━━━━━━━━━━━━━━━━━━━━\u001b[0m \u001b[32m118.7/118.7 KB\u001b[0m \u001b[31m51.5 MB/s\u001b[0m eta \u001b[36m0:00:00\u001b[0m\n",
      "\u001b[?25hCollecting Pygments==2.13.0\n",
      "  Downloading Pygments-2.13.0-py3-none-any.whl (1.1 MB)\n",
      "\u001b[2K     \u001b[90m━━━━━━━━━━━━━━━━━━━━━━━━━━━━━━━━━━━━━━━━\u001b[0m \u001b[32m1.1/1.1 MB\u001b[0m \u001b[31m12.5 MB/s\u001b[0m eta \u001b[36m0:00:00\u001b[0m00:01\u001b[0m:00:01\u001b[0m\n",
      "\u001b[?25hCollecting pyMSAviz==0.4.2\n",
      "  Downloading pymsaviz-0.4.2-py3-none-any.whl (16 kB)\n",
      "Collecting pyparsing==3.0.9\n",
      "  Downloading pyparsing-3.0.9-py3-none-any.whl (98 kB)\n",
      "\u001b[2K     \u001b[90m━━━━━━━━━━━━━━━━━━━━━━━━━━━━━━━━━━━━━━━━\u001b[0m \u001b[32m98.3/98.3 KB\u001b[0m \u001b[31m74.9 MB/s\u001b[0m eta \u001b[36m0:00:00\u001b[0m\n",
      "\u001b[?25hCollecting python-dateutil==2.8.2\n",
      "  Downloading python_dateutil-2.8.2-py2.py3-none-any.whl (247 kB)\n",
      "\u001b[2K     \u001b[90m━━━━━━━━━━━━━━━━━━━━━━━━━━━━━━━━━━━━━\u001b[0m \u001b[32m247.7/247.7 KB\u001b[0m \u001b[31m109.6 MB/s\u001b[0m eta \u001b[36m0:00:00\u001b[0m\n",
      "\u001b[?25hCollecting python-json-logger==2.0.7\n",
      "  Downloading python_json_logger-2.0.7-py3-none-any.whl (8.1 kB)\n",
      "Collecting pytz==2023.3.post1\n",
      "  Downloading pytz-2023.3.post1-py2.py3-none-any.whl (502 kB)\n",
      "\u001b[2K     \u001b[90m━━━━━━━━━━━━━━━━━━━━━━━━━━━━━━━━━━━━━\u001b[0m \u001b[32m502.5/502.5 KB\u001b[0m \u001b[31m109.8 MB/s\u001b[0m eta \u001b[36m0:00:00\u001b[0m\n",
      "\u001b[?25hCollecting PyYAML==6.0.1\n",
      "  Downloading PyYAML-6.0.1-cp310-cp310-manylinux_2_17_x86_64.manylinux2014_x86_64.whl (705 kB)\n",
      "\u001b[2K     \u001b[90m━━━━━━━━━━━━━━━━━━━━━━━━━━━━━━━━━━━━━━\u001b[0m \u001b[32m705.5/705.5 KB\u001b[0m \u001b[31m95.4 MB/s\u001b[0m eta \u001b[36m0:00:00\u001b[0m\n",
      "\u001b[?25hCollecting pyzmq==24.0.1\n",
      "  Downloading pyzmq-24.0.1-cp310-cp310-manylinux_2_17_x86_64.manylinux2014_x86_64.whl (1.1 MB)\n",
      "\u001b[2K     \u001b[90m━━━━━━━━━━━━━━━━━━━━━━━━━━━━━━━━━━━━━━━━\u001b[0m \u001b[32m1.1/1.1 MB\u001b[0m \u001b[31m54.3 MB/s\u001b[0m eta \u001b[36m0:00:00\u001b[0m\n",
      "\u001b[?25hCollecting quickdraw==1.0.0\n",
      "  Downloading quickdraw-1.0.0-py3-none-any.whl (11 kB)\n",
      "Collecting referencing==0.33.0\n",
      "  Downloading referencing-0.33.0-py3-none-any.whl (26 kB)\n",
      "Collecting regex==2023.12.25\n",
      "  Downloading regex-2023.12.25-cp310-cp310-manylinux_2_17_x86_64.manylinux2014_x86_64.whl (773 kB)\n",
      "\u001b[2K     \u001b[90m━━━━━━━━━━━━━━━━━━━━━━━━━━━━━━━━━━━━━━\u001b[0m \u001b[32m774.0/774.0 KB\u001b[0m \u001b[31m43.5 MB/s\u001b[0m eta \u001b[36m0:00:00\u001b[0m\n",
      "\u001b[?25hCollecting requests==2.31.0\n",
      "  Downloading requests-2.31.0-py3-none-any.whl (62 kB)\n",
      "\u001b[2K     \u001b[90m━━━━━━━━━━━━━━━━━━━━━━━━━━━━━━━━━━━━━━━━\u001b[0m \u001b[32m62.6/62.6 KB\u001b[0m \u001b[31m28.3 MB/s\u001b[0m eta \u001b[36m0:00:00\u001b[0m\n",
      "\u001b[?25hRequirement already satisfied: rfc3339-validator==0.1.4 in ./lib/python3.10/site-packages (from -r TemBERTure-main/TemBERTure-main/temBERTure/requirements.txt (line 117)) (0.1.4)\n",
      "Requirement already satisfied: rfc3986-validator==0.1.1 in ./lib/python3.10/site-packages (from -r TemBERTure-main/TemBERTure-main/temBERTure/requirements.txt (line 118)) (0.1.1)\n",
      "Collecting rpds-py==0.17.1\n",
      "  Downloading rpds_py-0.17.1-cp310-cp310-manylinux_2_17_x86_64.manylinux2014_x86_64.whl (1.2 MB)\n",
      "\u001b[2K     \u001b[90m━━━━━━━━━━━━━━━━━━━━━━━━━━━━━━━━━━━━━━━━\u001b[0m \u001b[32m1.2/1.2 MB\u001b[0m \u001b[31m54.0 MB/s\u001b[0m eta \u001b[36m0:00:00\u001b[0m\n",
      "\u001b[?25hCollecting safetensors==0.4.2\n",
      "  Downloading safetensors-0.4.2-cp310-cp310-manylinux_2_17_x86_64.manylinux2014_x86_64.whl (1.3 MB)\n",
      "\u001b[2K     \u001b[90m━━━━━━━━━━━━━━━━━━━━━━━━━━━━━━━━━━━━━━━━\u001b[0m \u001b[32m1.3/1.3 MB\u001b[0m \u001b[31m56.0 MB/s\u001b[0m eta \u001b[36m0:00:00\u001b[0m\n",
      "\u001b[?25hCollecting scikit-learn==1.4.0\n",
      "  Downloading scikit_learn-1.4.0-1-cp310-cp310-manylinux_2_17_x86_64.manylinux2014_x86_64.whl (12.1 MB)\n",
      "\u001b[2K     \u001b[90m━━━━━━━━━━━━━━━━━━━━━━━━━━━━━━━━━━━━━━━━\u001b[0m \u001b[32m12.1/12.1 MB\u001b[0m \u001b[31m25.9 MB/s\u001b[0m eta \u001b[36m0:00:00\u001b[0m00:01\u001b[0m00:01\u001b[0m\n",
      "\u001b[?25hCollecting scipion-installer==1.0.14\n",
      "  Downloading scipion-installer-1.0.14.tar.gz (21 kB)\n",
      "  Preparing metadata (setup.py) ... \u001b[?25ldone\n",
      "\u001b[?25hCollecting scipy==1.12.0\n",
      "  Downloading scipy-1.12.0-cp310-cp310-manylinux_2_17_x86_64.manylinux2014_x86_64.whl (38.4 MB)\n",
      "\u001b[2K     \u001b[90m━━━━━━━━━━━━━━━━━━━━━━━━━━━━━━━━━━━━━━━━\u001b[0m \u001b[32m38.4/38.4 MB\u001b[0m \u001b[31m68.7 MB/s\u001b[0m eta \u001b[36m0:00:00\u001b[0m00:01\u001b[0m00:01\u001b[0m\n",
      "\u001b[?25hRequirement already satisfied: seaborn==0.13.2 in ./lib/python3.10/site-packages (from -r TemBERTure-main/TemBERTure-main/temBERTure/requirements.txt (line 124)) (0.13.2)\n",
      "Collecting Send2Trash==1.8.2\n",
      "  Downloading Send2Trash-1.8.2-py3-none-any.whl (18 kB)\n",
      "Collecting sentry-sdk==1.39.2\n",
      "  Downloading sentry_sdk-1.39.2-py2.py3-none-any.whl (254 kB)\n",
      "\u001b[2K     \u001b[90m━━━━━━━━━━━━━━━━━━━━━━━━━━━━━━━━━━━━━━\u001b[0m \u001b[32m254.1/254.1 KB\u001b[0m \u001b[31m78.8 MB/s\u001b[0m eta \u001b[36m0:00:00\u001b[0m\n",
      "\u001b[?25hCollecting setproctitle==1.3.3\n",
      "  Downloading setproctitle-1.3.3-cp310-cp310-manylinux_2_5_x86_64.manylinux1_x86_64.manylinux_2_17_x86_64.manylinux2014_x86_64.whl (30 kB)\n",
      "Collecting smmap==5.0.1\n",
      "  Downloading smmap-5.0.1-py3-none-any.whl (24 kB)\n",
      "Collecting sniffio==1.3.0\n",
      "  Downloading sniffio-1.3.0-py3-none-any.whl (10 kB)\n",
      "Collecting soupsieve==2.5\n",
      "  Downloading soupsieve-2.5-py3-none-any.whl (36 kB)\n",
      "Collecting stack-data==0.6.0\n",
      "  Downloading stack_data-0.6.0-py3-none-any.whl (24 kB)\n",
      "Collecting svgwrite==1.4.3\n",
      "  Downloading svgwrite-1.4.3-py3-none-any.whl (67 kB)\n",
      "\u001b[2K     \u001b[90m━━━━━━━━━━━━━━━━━━━━━━━━━━━━━━━━━━━━━━━━\u001b[0m \u001b[32m67.1/67.1 KB\u001b[0m \u001b[31m33.7 MB/s\u001b[0m eta \u001b[36m0:00:00\u001b[0m\n",
      "\u001b[?25hCollecting terminado==0.18.0\n",
      "  Downloading terminado-0.18.0-py3-none-any.whl (14 kB)\n",
      "Collecting threadpoolctl==3.2.0\n",
      "  Downloading threadpoolctl-3.2.0-py3-none-any.whl (15 kB)\n",
      "Collecting tinycss2==1.2.1\n",
      "  Downloading tinycss2-1.2.1-py3-none-any.whl (21 kB)\n",
      "Collecting tokenizers==0.15.1\n",
      "  Downloading tokenizers-0.15.1-cp310-cp310-manylinux_2_17_x86_64.manylinux2014_x86_64.whl (3.6 MB)\n",
      "\u001b[2K     \u001b[90m━━━━━━━━━━━━━━━━━━━━━━━━━━━━━━━━━━━━━━━━\u001b[0m \u001b[32m3.6/3.6 MB\u001b[0m \u001b[31m71.2 MB/s\u001b[0m eta \u001b[36m0:00:00\u001b[0m:00:01\u001b[0m\n",
      "\u001b[?25hCollecting tomli==2.0.1\n",
      "  Downloading tomli-2.0.1-py3-none-any.whl (12 kB)\n",
      "\u001b[31mERROR: Could not find a version that satisfies the requirement torch==1.10.2 (from versions: 1.11.0, 1.12.0, 1.12.1, 1.13.0, 1.13.1, 2.0.0, 2.0.1, 2.1.0, 2.1.1, 2.1.2, 2.2.0, 2.2.1, 2.2.2, 2.3.0, 2.3.1, 2.4.0, 2.4.1, 2.5.0, 2.5.1, 2.6.0)\u001b[0m\u001b[31m\n",
      "\u001b[0m\u001b[31mERROR: No matching distribution found for torch==1.10.2\u001b[0m\u001b[31m\n",
      "\u001b[0m"
     ]
    }
   ],
   "source": [
    "!pip install -r TemBERTure-main/TemBERTure-main/temBERTure/requirements.txt"
   ]
  },
  {
   "cell_type": "code",
   "execution_count": 12,
   "id": "767f6766-46a8-4e44-bca8-4eacdf06ad6d",
   "metadata": {},
   "outputs": [
    {
     "name": "stdout",
     "output_type": "stream",
     "text": [
      "Collecting torch\n",
      "  Downloading torch-2.6.0-cp310-cp310-manylinux1_x86_64.whl (766.7 MB)\n",
      "\u001b[2K     \u001b[90m━━━━━━━━━━━━━━━━━━━━━━━━━━━━━━━━━━━━━━\u001b[0m \u001b[32m766.7/766.7 MB\u001b[0m \u001b[31m10.8 MB/s\u001b[0m eta \u001b[36m0:00:00\u001b[0m00:01\u001b[0m00:01\u001b[0m\n",
      "\u001b[?25hCollecting filelock\n",
      "  Downloading filelock-3.18.0-py3-none-any.whl (16 kB)\n",
      "Requirement already satisfied: typing-extensions>=4.10.0 in ./lib/python3.10/site-packages (from torch) (4.13.2)\n",
      "Collecting networkx\n",
      "  Downloading networkx-3.4.2-py3-none-any.whl (1.7 MB)\n",
      "\u001b[2K     \u001b[90m━━━━━━━━━━━━━━━━━━━━━━━━━━━━━━━━━━━━━━━━\u001b[0m \u001b[32m1.7/1.7 MB\u001b[0m \u001b[31m107.9 MB/s\u001b[0m eta \u001b[36m0:00:00\u001b[0m\n",
      "\u001b[?25hCollecting nvidia-cublas-cu12==12.4.5.8\n",
      "  Downloading nvidia_cublas_cu12-12.4.5.8-py3-none-manylinux2014_x86_64.whl (363.4 MB)\n",
      "\u001b[2K     \u001b[90m━━━━━━━━━━━━━━━━━━━━━━━━━━━━━━━━━━━━━━\u001b[0m \u001b[32m363.4/363.4 MB\u001b[0m \u001b[31m19.2 MB/s\u001b[0m eta \u001b[36m0:00:00\u001b[0m00:01\u001b[0m00:01\u001b[0m\n",
      "\u001b[?25hCollecting nvidia-cuda-runtime-cu12==12.4.127\n",
      "  Downloading nvidia_cuda_runtime_cu12-12.4.127-py3-none-manylinux2014_x86_64.whl (883 kB)\n",
      "\u001b[2K     \u001b[90m━━━━━━━━━━━━━━━━━━━━━━━━━━━━━━━━━━━━━\u001b[0m \u001b[32m883.7/883.7 KB\u001b[0m \u001b[31m119.9 MB/s\u001b[0m eta \u001b[36m0:00:00\u001b[0m\n",
      "\u001b[?25hRequirement already satisfied: jinja2 in ./lib/python3.10/site-packages (from torch) (3.1.6)\n",
      "Collecting fsspec\n",
      "  Downloading fsspec-2025.3.2-py3-none-any.whl (194 kB)\n",
      "\u001b[2K     \u001b[90m━━━━━━━━━━━━━━━━━━━━━━━━━━━━━━━━━━━━━\u001b[0m \u001b[32m194.4/194.4 KB\u001b[0m \u001b[31m106.5 MB/s\u001b[0m eta \u001b[36m0:00:00\u001b[0m\n",
      "\u001b[?25hCollecting triton==3.2.0\n",
      "  Downloading triton-3.2.0-cp310-cp310-manylinux_2_17_x86_64.manylinux2014_x86_64.whl (253.1 MB)\n",
      "\u001b[2K     \u001b[90m━━━━━━━━━━━━━━━━━━━━━━━━━━━━━━━━━━━━━━\u001b[0m \u001b[32m253.1/253.1 MB\u001b[0m \u001b[31m26.2 MB/s\u001b[0m eta \u001b[36m0:00:00\u001b[0m00:01\u001b[0m00:01\u001b[0m\n",
      "\u001b[?25hCollecting nvidia-cusolver-cu12==11.6.1.9\n",
      "  Downloading nvidia_cusolver_cu12-11.6.1.9-py3-none-manylinux2014_x86_64.whl (127.9 MB)\n",
      "\u001b[2K     \u001b[90m━━━━━━━━━━━━━━━━━━━━━━━━━━━━━━━━━━━━━━\u001b[0m \u001b[32m127.9/127.9 MB\u001b[0m \u001b[31m39.0 MB/s\u001b[0m eta \u001b[36m0:00:00\u001b[0m00:01\u001b[0m00:01\u001b[0m\n",
      "\u001b[?25hCollecting sympy==1.13.1\n",
      "  Downloading sympy-1.13.1-py3-none-any.whl (6.2 MB)\n",
      "\u001b[2K     \u001b[90m━━━━━━━━━━━━━━━━━━━━━━━━━━━━━━━━━━━━━━━━\u001b[0m \u001b[32m6.2/6.2 MB\u001b[0m \u001b[31m96.0 MB/s\u001b[0m eta \u001b[36m0:00:00\u001b[0mta \u001b[36m0:00:01\u001b[0m\n",
      "\u001b[?25hCollecting nvidia-cudnn-cu12==9.1.0.70\n",
      "  Downloading nvidia_cudnn_cu12-9.1.0.70-py3-none-manylinux2014_x86_64.whl (664.8 MB)\n",
      "\u001b[2K     \u001b[90m━━━━━━━━━━━━━━━━━━━━━━━━━━━━━━━━━━━━━━\u001b[0m \u001b[32m664.8/664.8 MB\u001b[0m \u001b[31m11.9 MB/s\u001b[0m eta \u001b[36m0:00:00\u001b[0m00:01\u001b[0m00:01\u001b[0m\n",
      "\u001b[?25hCollecting nvidia-nccl-cu12==2.21.5\n",
      "  Downloading nvidia_nccl_cu12-2.21.5-py3-none-manylinux2014_x86_64.whl (188.7 MB)\n",
      "\u001b[2K     \u001b[90m━━━━━━━━━━━━━━━━━━━━━━━━━━━━━━━━━━━━━━\u001b[0m \u001b[32m188.7/188.7 MB\u001b[0m \u001b[31m31.5 MB/s\u001b[0m eta \u001b[36m0:00:00\u001b[0m00:01\u001b[0m00:01\u001b[0m\n",
      "\u001b[?25hCollecting nvidia-cusparse-cu12==12.3.1.170\n",
      "  Downloading nvidia_cusparse_cu12-12.3.1.170-py3-none-manylinux2014_x86_64.whl (207.5 MB)\n",
      "\u001b[2K     \u001b[90m━━━━━━━━━━━━━━━━━━━━━━━━━━━━━━━━━━━━━━\u001b[0m \u001b[32m207.5/207.5 MB\u001b[0m \u001b[31m27.1 MB/s\u001b[0m eta \u001b[36m0:00:00\u001b[0m00:01\u001b[0m00:01\u001b[0m\n",
      "\u001b[?25hCollecting nvidia-nvjitlink-cu12==12.4.127\n",
      "  Downloading nvidia_nvjitlink_cu12-12.4.127-py3-none-manylinux2014_x86_64.whl (21.1 MB)\n",
      "\u001b[2K     \u001b[90m━━━━━━━━━━━━━━━━━━━━━━━━━━━━━━━━━━━━━━━━\u001b[0m \u001b[32m21.1/21.1 MB\u001b[0m \u001b[31m78.7 MB/s\u001b[0m eta \u001b[36m0:00:00\u001b[0m00:01\u001b[0m00:01\u001b[0m\n",
      "\u001b[?25hCollecting nvidia-curand-cu12==10.3.5.147\n",
      "  Downloading nvidia_curand_cu12-10.3.5.147-py3-none-manylinux2014_x86_64.whl (56.3 MB)\n",
      "\u001b[2K     \u001b[90m━━━━━━━━━━━━━━━━━━━━━━━━━━━━━━━━━━━━━━━━\u001b[0m \u001b[32m56.3/56.3 MB\u001b[0m \u001b[31m58.1 MB/s\u001b[0m eta \u001b[36m0:00:00\u001b[0m00:01\u001b[0m00:01\u001b[0m\n",
      "\u001b[?25hCollecting nvidia-cusparselt-cu12==0.6.2\n",
      "  Downloading nvidia_cusparselt_cu12-0.6.2-py3-none-manylinux2014_x86_64.whl (150.1 MB)\n",
      "\u001b[2K     \u001b[90m━━━━━━━━━━━━━━━━━━━━━━━━━━━━━━━━━━━━━━\u001b[0m \u001b[32m150.1/150.1 MB\u001b[0m \u001b[31m37.2 MB/s\u001b[0m eta \u001b[36m0:00:00\u001b[0m00:01\u001b[0m00:01\u001b[0m\n",
      "\u001b[?25hCollecting nvidia-cuda-nvrtc-cu12==12.4.127\n",
      "  Downloading nvidia_cuda_nvrtc_cu12-12.4.127-py3-none-manylinux2014_x86_64.whl (24.6 MB)\n",
      "\u001b[2K     \u001b[90m━━━━━━━━━━━━━━━━━━━━━━━━━━━━━━━━━━━━━━━━\u001b[0m \u001b[32m24.6/24.6 MB\u001b[0m \u001b[31m75.7 MB/s\u001b[0m eta \u001b[36m0:00:00\u001b[0m00:01\u001b[0m00:01\u001b[0m\n",
      "\u001b[?25hCollecting nvidia-nvtx-cu12==12.4.127\n",
      "  Downloading nvidia_nvtx_cu12-12.4.127-py3-none-manylinux2014_x86_64.whl (99 kB)\n",
      "\u001b[2K     \u001b[90m━━━━━━━━━━━━━━━━━━━━━━━━━━━━━━━━━━━━━━━━\u001b[0m \u001b[32m99.1/99.1 KB\u001b[0m \u001b[31m49.6 MB/s\u001b[0m eta \u001b[36m0:00:00\u001b[0m\n",
      "\u001b[?25hCollecting nvidia-cuda-cupti-cu12==12.4.127\n",
      "  Downloading nvidia_cuda_cupti_cu12-12.4.127-py3-none-manylinux2014_x86_64.whl (13.8 MB)\n",
      "\u001b[2K     \u001b[90m━━━━━━━━━━━━━━━━━━━━━━━━━━━━━━━━━━━━━━━━\u001b[0m \u001b[32m13.8/13.8 MB\u001b[0m \u001b[31m84.3 MB/s\u001b[0m eta \u001b[36m0:00:00\u001b[0m00:01\u001b[0m00:01\u001b[0m\n",
      "\u001b[?25hCollecting nvidia-cufft-cu12==11.2.1.3\n",
      "  Downloading nvidia_cufft_cu12-11.2.1.3-py3-none-manylinux2014_x86_64.whl (211.5 MB)\n",
      "\u001b[2K     \u001b[90m━━━━━━━━━━━━━━━━━━━━━━━━━━━━━━━━━━━━━━\u001b[0m \u001b[32m211.5/211.5 MB\u001b[0m \u001b[31m30.8 MB/s\u001b[0m eta \u001b[36m0:00:00\u001b[0m00:01\u001b[0m00:01\u001b[0m\n",
      "\u001b[?25hCollecting mpmath<1.4,>=1.1.0\n",
      "  Downloading mpmath-1.3.0-py3-none-any.whl (536 kB)\n",
      "\u001b[2K     \u001b[90m━━━━━━━━━━━━━━━━━━━━━━━━━━━━━━━━━━━━━\u001b[0m \u001b[32m536.2/536.2 KB\u001b[0m \u001b[31m122.5 MB/s\u001b[0m eta \u001b[36m0:00:00\u001b[0m\n",
      "\u001b[?25hRequirement already satisfied: MarkupSafe>=2.0 in ./lib/python3.10/site-packages (from jinja2->torch) (3.0.2)\n",
      "Installing collected packages: triton, nvidia-cusparselt-cu12, mpmath, sympy, nvidia-nvtx-cu12, nvidia-nvjitlink-cu12, nvidia-nccl-cu12, nvidia-curand-cu12, nvidia-cufft-cu12, nvidia-cuda-runtime-cu12, nvidia-cuda-nvrtc-cu12, nvidia-cuda-cupti-cu12, nvidia-cublas-cu12, networkx, fsspec, filelock, nvidia-cusparse-cu12, nvidia-cudnn-cu12, nvidia-cusolver-cu12, torch\n",
      "Successfully installed filelock-3.18.0 fsspec-2025.3.2 mpmath-1.3.0 networkx-3.4.2 nvidia-cublas-cu12-12.4.5.8 nvidia-cuda-cupti-cu12-12.4.127 nvidia-cuda-nvrtc-cu12-12.4.127 nvidia-cuda-runtime-cu12-12.4.127 nvidia-cudnn-cu12-9.1.0.70 nvidia-cufft-cu12-11.2.1.3 nvidia-curand-cu12-10.3.5.147 nvidia-cusolver-cu12-11.6.1.9 nvidia-cusparse-cu12-12.3.1.170 nvidia-cusparselt-cu12-0.6.2 nvidia-nccl-cu12-2.21.5 nvidia-nvjitlink-cu12-12.4.127 nvidia-nvtx-cu12-12.4.127 sympy-1.13.1 torch-2.6.0 triton-3.2.0\n"
     ]
    }
   ],
   "source": [
    "!pip install torch"
   ]
  },
  {
   "cell_type": "code",
   "execution_count": 13,
   "id": "985fdbfe-7e8d-4047-9e7b-1d2a05509917",
   "metadata": {},
   "outputs": [
    {
     "name": "stdout",
     "output_type": "stream",
     "text": [
      "True\n"
     ]
    }
   ],
   "source": [
    "import torch\n",
    "print(torch.cuda.is_available())"
   ]
  },
  {
   "cell_type": "code",
   "execution_count": 26,
   "id": "05e11e26-3453-4bd0-a2fa-00f8037daf4a",
   "metadata": {},
   "outputs": [
    {
     "name": "stdout",
     "output_type": "stream",
     "text": [
      "Collecting transformers\n",
      "  Downloading transformers-4.51.2-py3-none-any.whl (10.4 MB)\n",
      "\u001b[2K     \u001b[90m━━━━━━━━━━━━━━━━━━━━━━━━━━━━━━━━━━━━━━━━\u001b[0m \u001b[32m10.4/10.4 MB\u001b[0m \u001b[31m1.6 MB/s\u001b[0m eta \u001b[36m0:00:00\u001b[0m00:01\u001b[0m0:04\u001b[0m0m\n",
      "\u001b[?25hRequirement already satisfied: requests in ./lib/python3.10/site-packages (from transformers) (2.32.3)\n",
      "Requirement already satisfied: packaging>=20.0 in ./lib/python3.10/site-packages (from transformers) (24.2)\n",
      "Collecting huggingface-hub<1.0,>=0.30.0\n",
      "  Downloading huggingface_hub-0.30.2-py3-none-any.whl (481 kB)\n",
      "\u001b[2K     \u001b[90m━━━━━━━━━━━━━━━━━━━━━━━━━━━━━━━━━━━━━━\u001b[0m \u001b[32m481.4/481.4 KB\u001b[0m \u001b[31m97.4 MB/s\u001b[0m eta \u001b[36m0:00:00\u001b[0m\n",
      "\u001b[?25hRequirement already satisfied: pyyaml>=5.1 in ./lib/python3.10/site-packages (from transformers) (6.0.2)\n",
      "Collecting regex!=2019.12.17\n",
      "  Downloading regex-2024.11.6-cp310-cp310-manylinux_2_17_x86_64.manylinux2014_x86_64.whl (781 kB)\n",
      "\u001b[2K     \u001b[90m━━━━━━━━━━━━━━━━━━━━━━━━━━━━━━━━━━━━━━\u001b[0m \u001b[32m781.7/781.7 KB\u001b[0m \u001b[31m41.6 MB/s\u001b[0m eta \u001b[36m0:00:00\u001b[0m\n",
      "\u001b[?25hCollecting safetensors>=0.4.3\n",
      "  Downloading safetensors-0.5.3-cp38-abi3-manylinux_2_17_x86_64.manylinux2014_x86_64.whl (471 kB)\n",
      "\u001b[2K     \u001b[90m━━━━━━━━━━━━━━━━━━━━━━━━━━━━━━━━━━━━━━\u001b[0m \u001b[32m471.6/471.6 KB\u001b[0m \u001b[31m29.7 MB/s\u001b[0m eta \u001b[36m0:00:00\u001b[0m\n",
      "\u001b[?25hRequirement already satisfied: filelock in ./lib/python3.10/site-packages (from transformers) (3.18.0)\n",
      "Collecting tqdm>=4.27\n",
      "  Downloading tqdm-4.67.1-py3-none-any.whl (78 kB)\n",
      "\u001b[2K     \u001b[90m━━━━━━━━━━━━━━━━━━━━━━━━━━━━━━━━━━━━━━━━\u001b[0m \u001b[32m78.5/78.5 KB\u001b[0m \u001b[31m56.7 MB/s\u001b[0m eta \u001b[36m0:00:00\u001b[0m\n",
      "\u001b[?25hRequirement already satisfied: numpy>=1.17 in ./lib/python3.10/site-packages (from transformers) (2.2.4)\n",
      "Collecting tokenizers<0.22,>=0.21\n",
      "  Downloading tokenizers-0.21.1-cp39-abi3-manylinux_2_17_x86_64.manylinux2014_x86_64.whl (3.0 MB)\n",
      "\u001b[2K     \u001b[90m━━━━━━━━━━━━━━━━━━━━━━━━━━━━━━━━━━━━━━━━\u001b[0m \u001b[32m3.0/3.0 MB\u001b[0m \u001b[31m75.5 MB/s\u001b[0m eta \u001b[36m0:00:00\u001b[0m:00:01\u001b[0m\n",
      "\u001b[?25hRequirement already satisfied: fsspec>=2023.5.0 in ./lib/python3.10/site-packages (from huggingface-hub<1.0,>=0.30.0->transformers) (2025.3.2)\n",
      "Requirement already satisfied: typing-extensions>=3.7.4.3 in ./lib/python3.10/site-packages (from huggingface-hub<1.0,>=0.30.0->transformers) (4.13.2)\n",
      "Requirement already satisfied: urllib3<3,>=1.21.1 in ./lib/python3.10/site-packages (from requests->transformers) (2.4.0)\n",
      "Requirement already satisfied: certifi>=2017.4.17 in ./lib/python3.10/site-packages (from requests->transformers) (2025.1.31)\n",
      "Requirement already satisfied: charset-normalizer<4,>=2 in ./lib/python3.10/site-packages (from requests->transformers) (3.4.1)\n",
      "Requirement already satisfied: idna<4,>=2.5 in ./lib/python3.10/site-packages (from requests->transformers) (3.10)\n",
      "Installing collected packages: tqdm, safetensors, regex, huggingface-hub, tokenizers, transformers\n",
      "Successfully installed huggingface-hub-0.30.2 regex-2024.11.6 safetensors-0.5.3 tokenizers-0.21.1 tqdm-4.67.1 transformers-4.51.2\n"
     ]
    }
   ],
   "source": [
    "!pip install transformers"
   ]
  },
  {
   "cell_type": "markdown",
   "id": "02e314de-0841-4085-9623-938449f590ed",
   "metadata": {},
   "source": [
    "!pip install adapters"
   ]
  },
  {
   "cell_type": "markdown",
   "id": "7271987e-ffca-44f2-8385-c268bfd9060d",
   "metadata": {},
   "source": [
    "### Importar TemBERTure\n",
    "Tuve que cambiarle el nombre a temBERTure.py a temBERTure_model.py para que no diera problemas a la hora de importar"
   ]
  },
  {
   "cell_type": "code",
   "execution_count": 47,
   "id": "a20e3999-fe84-4f8d-9eb6-1cc11b38d8fa",
   "metadata": {},
   "outputs": [],
   "source": [
    "import sys\n",
    "sys.path.append('TemBERTure-main/TemBERTure-main/temBERTure')\n",
    "\n",
    "from temBERTure_model import TemBERTure"
   ]
  },
  {
   "cell_type": "markdown",
   "id": "d9659595-e258-4f7a-8104-826976d0f53c",
   "metadata": {},
   "source": [
    "# TemBERTure CLS"
   ]
  },
  {
   "cell_type": "code",
   "execution_count": 48,
   "id": "1ccaae35-0691-4829-a19c-04ece9c3fb07",
   "metadata": {},
   "outputs": [],
   "source": [
    "# Initialize TemBERTureCLS model with specified parameters\n",
    "model = TemBERTure(\n",
    "    adapter_path='TemBERTure-main/TemBERTure-main/temBERTure/temBERTure_CLS/',  # Path to the model adapter weights\n",
    "    device='cuda',                                # Device to run the model on\n",
    "    batch_size=1,                                 # Batch size for inference\n",
    "    task='classification'                         # Task type (e.g., classification for TemBERTureCLS)\n",
    ")"
   ]
  },
  {
   "cell_type": "markdown",
   "id": "ccd8d8f5-c3d3-4748-b97e-71beb89961b7",
   "metadata": {},
   "source": [
    "#### Predecir"
   ]
  },
  {
   "cell_type": "code",
   "execution_count": 49,
   "id": "d8febdf0-e511-48e4-8dea-3e20a8e58fbc",
   "metadata": {},
   "outputs": [],
   "source": [
    "\n",
    "seq = 'MEKVYGLIGFPVEHSLSPLMHNDAFARLGIPARYHLFSVEPGQVGAAIAGVRALGIAGVNVTIPHKLAVIPFLDEVDEHARRIGAVNTIINNDGRLIGFNTDGPGYVQALEEEMNITLDGKRILVIGAGGGARGIYFSLLSTAAERIDMANRTVEKAERLVREGEGGRSAYFSLAEAETRLDEYDIIINTTSVGMHPRVEVQPLSLERLRPGVIVSNIIYNPLETKWLKEAKARGARVQNGVGMLVYQGALAFEKWTGQWPDVNRMKQLVIEALRR'"
   ]
  },
  {
   "cell_type": "code",
   "execution_count": 50,
   "id": "3c617932-0027-4e7a-b1c8-03e0c9f0720d",
   "metadata": {},
   "outputs": [
    {
     "name": "stderr",
     "output_type": "stream",
     "text": [
      "100%|█████████████████████████████████████████████████████████████████████████████████████████████████████████████████████████████████████| 1/1 [00:00<00:00, 67.82it/s]"
     ]
    },
    {
     "name": "stdout",
     "output_type": "stream",
     "text": [
      "Predicted thermal class: ['Thermophilic']\n",
      "Thermophilicity prediction score: 0.9990964567801947\n"
     ]
    },
    {
     "name": "stderr",
     "output_type": "stream",
     "text": [
      "\n"
     ]
    },
    {
     "data": {
      "text/plain": [
       "[['Thermophilic'], array([0.99909646])]"
      ]
     },
     "execution_count": 50,
     "metadata": {},
     "output_type": "execute_result"
    }
   ],
   "source": [
    "model.predict(seq)"
   ]
  },
  {
   "cell_type": "markdown",
   "id": "b95d41c6-9b83-412d-97a0-5210a41249bc",
   "metadata": {},
   "source": [
    "# TemBERTure TM"
   ]
  },
  {
   "cell_type": "code",
   "execution_count": 41,
   "id": "ba849322-e225-4735-811b-86ebd89437c0",
   "metadata": {},
   "outputs": [
    {
     "name": "stderr",
     "output_type": "stream",
     "text": [
      "/home/sis.virtual.uniandes.edu.co/jz.rincon/temberture/lib/python3.10/site-packages/adapters/composition.py:225: FutureWarning: Passing list objects for adapter activation is deprecated. Please use Stack or Fuse explicitly.\n",
      "  warnings.warn(\n"
     ]
    }
   ],
   "source": [
    "# Initialize all TemBERTureTM replicas with specified inference parameters\n",
    "model_replica1 = TemBERTure(\n",
    "    adapter_path='TemBERTure-main/TemBERTure-main/temBERTure/temBERTure_TM/replica1/' ,  # Path to the adapter for replica 1\n",
    "    device='cuda',                                        # Device to run the model on\n",
    "    batch_size=16,                                        # Batch size for inference\n",
    "    task='regression'                                     # Task type (e.g., regression for TemBERTureTM)\n",
    ")\n",
    "\n",
    "model_replica2 = TemBERTure(\n",
    "    adapter_path='TemBERTure-main/TemBERTure-main/temBERTure/temBERTure_TM/replica2/',  # Path to the adapter for replica 2\n",
    "    device='cuda',                                        # Device to run the model on\n",
    "    batch_size=16,                                        # Batch size for inference\n",
    "    task='regression'                                     # Task type (e.g., regression for TemBERTureTM)\n",
    ")\n",
    "\n",
    "model_replica3 = TemBERTure(\n",
    "    adapter_path='TemBERTure-main/TemBERTure-main/temBERTure/temBERTure_TM/replica3/',  # Path to the adapter for replica 3\n",
    "    device='cuda',                                        # Device to run the model on\n",
    "    batch_size=16,                                        # Batch size for inference\n",
    "    task='regression'                                     # Task type (e.g., regression for TemBERTureTM)\n",
    ")\n"
   ]
  },
  {
   "cell_type": "markdown",
   "id": "17829f01-1130-4476-9be5-a815729b9351",
   "metadata": {},
   "source": [
    "#### Hacer predicciones"
   ]
  },
  {
   "cell_type": "code",
   "execution_count": 15,
   "id": "a701d109-ca66-42d2-8ce9-cb230bd4cb3e",
   "metadata": {},
   "outputs": [],
   "source": [
    "\n",
    "seq = 'MEKVYGLIGFPVEHSLSPLMHNDAFARLGIPARYHLFSVEPGQVGAAIAGVRALGIAGVNVTIPHKLAVIPFLDEVDEHARRIGAVNTIINNDGRLIGFNTDGPGYVQALEEEMNITLDGKRILVIGAGGGARGIYFSLLSTAAERIDMANRTVEKAERLVREGEGGRSAYFSLAEAETRLDEYDIIINTTSVGMHPRVEVQPLSLERLRPGVIVSNIIYNPLETKWLKEAKARGARVQNGVGMLVYQGALAFEKWTGQWPDVNRMKQLVIEALRR'"
   ]
  },
  {
   "cell_type": "code",
   "execution_count": 42,
   "id": "67990561-0529-484e-9d3f-4c605f7ea14e",
   "metadata": {},
   "outputs": [
    {
     "name": "stderr",
     "output_type": "stream",
     "text": [
      "100%|█████████████████████████████████████████████████████████████████████████████████████████████████████████████████████████████████████| 1/1 [00:00<00:00, 12.53it/s]"
     ]
    },
    {
     "name": "stdout",
     "output_type": "stream",
     "text": [
      "Predicted melting temperature: [77.86847686767578]\n"
     ]
    },
    {
     "name": "stderr",
     "output_type": "stream",
     "text": [
      "\n"
     ]
    },
    {
     "data": {
      "text/plain": [
       "[77.86847686767578]"
      ]
     },
     "execution_count": 42,
     "metadata": {},
     "output_type": "execute_result"
    }
   ],
   "source": [
    " model_replica1.predict(seq)"
   ]
  },
  {
   "cell_type": "code",
   "execution_count": 43,
   "id": "c0512ad6-2961-4b70-9b48-5da684ea15f3",
   "metadata": {},
   "outputs": [
    {
     "name": "stderr",
     "output_type": "stream",
     "text": [
      "100%|█████████████████████████████████████████████████████████████████████████████████████████████████████████████████████████████████████| 1/1 [00:00<00:00, 69.64it/s]"
     ]
    },
    {
     "name": "stdout",
     "output_type": "stream",
     "text": [
      "Predicted melting temperature: [75.61272430419922]\n"
     ]
    },
    {
     "name": "stderr",
     "output_type": "stream",
     "text": [
      "\n"
     ]
    },
    {
     "data": {
      "text/plain": [
       "[75.61272430419922]"
      ]
     },
     "execution_count": 43,
     "metadata": {},
     "output_type": "execute_result"
    }
   ],
   "source": [
    " model_replica2.predict(seq)"
   ]
  },
  {
   "cell_type": "code",
   "execution_count": 44,
   "id": "466ac5ca-a0ad-474b-a83d-8fc687d8e5f8",
   "metadata": {},
   "outputs": [
    {
     "name": "stderr",
     "output_type": "stream",
     "text": [
      "100%|█████████████████████████████████████████████████████████████████████████████████████████████████████████████████████████████████████| 1/1 [00:00<00:00, 58.85it/s]"
     ]
    },
    {
     "name": "stdout",
     "output_type": "stream",
     "text": [
      "Predicted melting temperature: [73.77037811279297]\n"
     ]
    },
    {
     "name": "stderr",
     "output_type": "stream",
     "text": [
      "\n"
     ]
    },
    {
     "data": {
      "text/plain": [
       "[73.77037811279297]"
      ]
     },
     "execution_count": 44,
     "metadata": {},
     "output_type": "execute_result"
    }
   ],
   "source": [
    " model_replica3.predict(seq)"
   ]
  }
 ],
 "metadata": {
  "kernelspec": {
   "display_name": "Python 3 (ipykernel)",
   "language": "python",
   "name": "python3"
  },
  "language_info": {
   "codemirror_mode": {
    "name": "ipython",
    "version": 3
   },
   "file_extension": ".py",
   "mimetype": "text/x-python",
   "name": "python",
   "nbconvert_exporter": "python",
   "pygments_lexer": "ipython3",
   "version": "3.10.12"
  }
 },
 "nbformat": 4,
 "nbformat_minor": 5
}
